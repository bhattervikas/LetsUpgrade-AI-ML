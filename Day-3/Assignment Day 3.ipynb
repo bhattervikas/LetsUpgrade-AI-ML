{
 "cells": [
  {
   "cell_type": "markdown",
   "metadata": {},
   "source": [
    " # Question 1\n",
    " ## Write a program to subtract two complex numbers in Python."
   ]
  },
  {
   "cell_type": "code",
   "execution_count": 2,
   "metadata": {},
   "outputs": [
    {
     "name": "stdout",
     "output_type": "stream",
     "text": [
      "Substraction is (-4-2j)\n"
     ]
    }
   ],
   "source": [
    "a=2+3j\n",
    "b=6+5j\n",
    "c=a-b\n",
    "print (\"Substraction is\", c)"
   ]
  },
  {
   "cell_type": "markdown",
   "metadata": {},
   "source": [
    "# Question 2 :\n",
    "## Write a program to find the fourth root of a number.\n"
   ]
  },
  {
   "cell_type": "code",
   "execution_count": 9,
   "metadata": {},
   "outputs": [
    {
     "data": {
      "text/plain": [
       "2.0"
      ]
     },
     "execution_count": 9,
     "metadata": {},
     "output_type": "execute_result"
    }
   ],
   "source": [
    "a=16**(1/4)\n",
    "a"
   ]
  },
  {
   "cell_type": "markdown",
   "metadata": {},
   "source": [
    "# Question 3:\n",
    "## Write a program to swap two numbers in Python with the help of a temporary variable"
   ]
  },
  {
   "cell_type": "code",
   "execution_count": 11,
   "metadata": {},
   "outputs": [
    {
     "name": "stdout",
     "output_type": "stream",
     "text": [
      " THe swapped numbers are a= 10 b= 5\n"
     ]
    }
   ],
   "source": [
    "a = 5\n",
    "b=10\n",
    "c=a\n",
    "a=b\n",
    "b=c\n",
    "\n",
    "print(\" THe swapped numbers are a=\",a,\"b=\",b)"
   ]
  },
  {
   "cell_type": "markdown",
   "metadata": {},
   "source": [
    "# Question 4:\n",
    "## Write a program to swap two numbers in Python without using a temporary variable.\n"
   ]
  },
  {
   "cell_type": "code",
   "execution_count": 13,
   "metadata": {},
   "outputs": [
    {
     "name": "stdout",
     "output_type": "stream",
     "text": [
      "The Swapped numbers with out using Variable are a=  10 and b= 5\n"
     ]
    }
   ],
   "source": [
    "a=5\n",
    "b=10\n",
    "a=a+b\n",
    "b=a-b\n",
    "a=a-b\n",
    "\n",
    "print(\"The Swapped numbers with out using Variable are a= \",a,\"and b=\",b)\n",
    "\n",
    "\n"
   ]
  },
  {
   "cell_type": "markdown",
   "metadata": {},
   "source": [
    "# Question 5:\n",
    "## Write a program to convert fahrenheit to kelvin and celsius both"
   ]
  },
  {
   "cell_type": "code",
   "execution_count": 18,
   "metadata": {},
   "outputs": [
    {
     "name": "stdout",
     "output_type": "stream",
     "text": [
      "celcius vaue for farenheit 20 is  -6.666666666666667\n",
      "Kelvin vaue for farenheit 20 is  266.3333333333333\n"
     ]
    }
   ],
   "source": [
    "farenheit =20\n",
    "celcius  =5*(farenheit-32)/9\n",
    "print (\"celcius vaue for farenheit\",farenheit,\"is \", celcius)\n",
    "\n",
    "Kelvin =273 +celcius\n",
    "print (\"Kelvin vaue for farenheit\",farenheit,\"is \", Kelvin)\n"
   ]
  },
  {
   "cell_type": "markdown",
   "metadata": {},
   "source": [
    "# Question 6:\n",
    "## Write a program to demonstrate all the available data types in Python. "
   ]
  },
  {
   "cell_type": "code",
   "execution_count": 21,
   "metadata": {},
   "outputs": [
    {
     "name": "stdout",
     "output_type": "stream",
     "text": [
      "Date type of a is  <class 'int'>\n",
      "Date type of b is  <class 'float'>\n",
      "Date type of c is  <class 'str'>\n",
      "Date type of d is  <class 'bool'>\n",
      "Date type of e is  <class 'complex'>\n"
     ]
    }
   ],
   "source": [
    "a=5\n",
    "print (\"Date type of a is \",type(a))\n",
    "b=5.0\n",
    "print (\"Date type of b is \",type(b))\n",
    "c=\"Vikas\"\n",
    "print (\"Date type of c is \",type(c))\n",
    "d=True\n",
    "print (\"Date type of d is \",type(d))\n",
    "e=5+2j\n",
    "print (\"Date type of e is \",type(e))"
   ]
  },
  {
   "cell_type": "markdown",
   "metadata": {},
   "source": [
    "# Question 7:\n",
    "## Create a Markdown cell in jupyter and list the steps discussed in the session by Dr. Darshan Ingle sir to create Github profile and upload Githubs Assignment link\n",
    "\n",
    "###  Steps to Create Github profile\n",
    "### 1.Go to github.com\n",
    "### 2.create your profile by signing up with your email id \n",
    "### 3.Click on new and create the repository Lets upgrade AI-ML.\n",
    "### 4.Mention description as Assignments.\n",
    "### 5.click create repository.\n",
    "### 6.Once repository is created drag and drop the files(folder & files that is having the code for assignment)              in the drag and drop section.\n",
    "### 7.Once folder is uploaded go inside the folder and copy the link from the web address bar.\n",
    "### 8.open the assignment submit link shared by Lets upgrade team.Enter the registered email address,name,            registered email address,Mobile number,assignment day and the Git hub URL"
   ]
  },
  {
   "cell_type": "code",
   "execution_count": null,
   "metadata": {},
   "outputs": [],
   "source": []
  }
 ],
 "metadata": {
  "kernelspec": {
   "display_name": "Python 3",
   "language": "python",
   "name": "python3"
  },
  "language_info": {
   "codemirror_mode": {
    "name": "ipython",
    "version": 3
   },
   "file_extension": ".py",
   "mimetype": "text/x-python",
   "name": "python",
   "nbconvert_exporter": "python",
   "pygments_lexer": "ipython3",
   "version": "3.6.5"
  }
 },
 "nbformat": 4,
 "nbformat_minor": 4
}
