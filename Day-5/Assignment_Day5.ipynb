{
 "cells": [
  {
   "cell_type": "markdown",
   "metadata": {},
   "source": [
    "## Question 1 :\n",
    "### Write a Python program to find the first 20 non-even prime natural numbers"
   ]
  },
  {
   "cell_type": "code",
   "execution_count": 25,
   "metadata": {},
   "outputs": [
    {
     "name": "stdout",
     "output_type": "stream",
     "text": [
      "3\n",
      "5\n",
      "7\n",
      "11\n",
      "13\n",
      "17\n",
      "19\n",
      "23\n",
      "29\n",
      "31\n",
      "37\n",
      "41\n",
      "43\n",
      "47\n",
      "53\n",
      "59\n",
      "61\n",
      "67\n",
      "71\n",
      "73\n"
     ]
    }
   ],
   "source": [
    "count=0\n",
    "\n",
    "\n",
    "for i in range(3,100):\n",
    "    if count<20:\n",
    "        for j in range(2,i):\n",
    "            if i % j!=0:\n",
    "                flag=0\n",
    "                        \n",
    "            else:\n",
    "                flag=1\n",
    "                break\n",
    "        if(flag == 0):\n",
    "            print(i)\n",
    "            count= count+1\n",
    "            \n",
    "        \n",
    "        \n",
    "                \n",
    "            \n",
    "        \n",
    "        \n",
    "           \n",
    "        \n",
    "                  \n",
    "       \n",
    "\n",
    "    \n",
    "    \n"
   ]
  },
  {
   "cell_type": "markdown",
   "metadata": {},
   "source": [
    " # Question 2 :\n",
    "## Write a Python program to implement 15 functions of string.   "
   ]
  },
  {
   "cell_type": "code",
   "execution_count": 58,
   "metadata": {},
   "outputs": [
    {
     "data": {
      "text/plain": [
       "3"
      ]
     },
     "execution_count": 58,
     "metadata": {},
     "output_type": "execute_result"
    }
   ],
   "source": [
    "s1 ='vikas'\n",
    "s2='bhatter'\n",
    "s1.find('a')\n",
    "s1.isalpha()\n",
    "s1.isdecimal()\n",
    "s2.islower()\n",
    "s1.replace('a','k')\n",
    "s2.split()\n",
    "s2.count('t')\n",
    "s2.swapcase()\n",
    "s1.upper()\n",
    "s2.capitalize()\n",
    "s1.isprintable()\n",
    "s1.endswith('s')\n",
    "s1.format()\n",
    "s1.isalnum()\n",
    "s2.index('t')\n",
    "s1.\n"
   ]
  },
  {
   "cell_type": "markdown",
   "metadata": {},
   "source": [
    "# Question 3:\n",
    "## Write a Python program to check if the given string is a Palindrome or Anagram or None of them.Display the message accordingly to the user.\n"
   ]
  },
  {
   "cell_type": "code",
   "execution_count": 64,
   "metadata": {},
   "outputs": [
    {
     "name": "stdout",
     "output_type": "stream",
     "text": [
      "string is palidrome I m malayalam m I\n",
      "string is anagram vikas\n",
      "string is neither palindrome nor anagram vikas\n"
     ]
    }
   ],
   "source": [
    "\n",
    "s1=\"I m malayalam m I\" \n",
    "s2=s1[::-1]\n",
    "s3='vikas'\n",
    "s4='vkasi'\n",
    "if s1==s2:\n",
    "    print(\"string is palidrome\",s1)\n",
    "if(sorted(s3)==sorted(s4)):\n",
    "    print(\"string is anagram\",s3)\n",
    "if s1!=s3:\n",
    "    print(\"string is neither palindrome nor anagram\",s3)\n",
    "    \n",
    "\n",
    "    \n",
    "    "
   ]
  },
  {
   "cell_type": "markdown",
   "metadata": {},
   "source": [
    "# Question 4:\n",
    "## Write a Python's user defined function that removes all the additional characters from the string and converts it finally to lower case using built-in lower(). eg: If the string is \"Dr. Darshan Ingle @AI-ML Trainer\", then the output be \"drdarshaningleaimltrainer\""
   ]
  },
  {
   "cell_type": "code",
   "execution_count": 110,
   "metadata": {},
   "outputs": [
    {
     "name": "stdout",
     "output_type": "stream",
     "text": [
      "drdarshaningleaimltrainer\n"
     ]
    }
   ],
   "source": [
    "s1=\"Dr. Darshan Ingle @AI-ML Trainer\"\n",
    "s2= ['.','@','-',' ']\n",
    "for i in s2:\n",
    "    s1=s1.replace(i,'')\n",
    "\n",
    "s1=s1.lower()\n",
    "print (s1)s\n",
    "\n",
    "\n",
    " "
   ]
  },
  {
   "cell_type": "code",
   "execution_count": null,
   "metadata": {},
   "outputs": [],
   "source": []
  },
  {
   "cell_type": "code",
   "execution_count": null,
   "metadata": {},
   "outputs": [],
   "source": []
  }
 ],
 "metadata": {
  "kernelspec": {
   "display_name": "Python 3",
   "language": "python",
   "name": "python3"
  },
  "language_info": {
   "codemirror_mode": {
    "name": "ipython",
    "version": 3
   },
   "file_extension": ".py",
   "mimetype": "text/x-python",
   "name": "python",
   "nbconvert_exporter": "python",
   "pygments_lexer": "ipython3",
   "version": "3.6.5"
  },
  "toc": {
   "base_numbering": 1,
   "nav_menu": {},
   "number_sections": true,
   "sideBar": true,
   "skip_h1_title": false,
   "title_cell": "Table of Contents",
   "title_sidebar": "Contents",
   "toc_cell": false,
   "toc_position": {},
   "toc_section_display": true,
   "toc_window_display": false
  }
 },
 "nbformat": 4,
 "nbformat_minor": 4
}
