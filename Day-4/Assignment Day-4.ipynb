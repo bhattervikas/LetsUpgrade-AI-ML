{
 "cells": [
  {
   "cell_type": "markdown",
   "metadata": {},
   "source": [
    "## Question 1 :\n",
    "### Research on whether addition, subtraction, multiplication, division, floor division and modulo operations be performed on complex numbers. Based on your study, implement a Python program to demonstrate these operations.\n"
   ]
  },
  {
   "cell_type": "code",
   "execution_count": 6,
   "metadata": {},
   "outputs": [
    {
     "name": "stdout",
     "output_type": "stream",
     "text": [
      "Addition of complex numbers a and b is  (7+1j)\n",
      "subtraction of complex numbers a and b is  (-3+5j)\n",
      "Multiplication of complex numbers a and b is  (16+11j)\n",
      "Division of complex numbers a and b is  (0.1379310344827586+0.6551724137931034j)\n"
     ]
    }
   ],
   "source": [
    "a=2+3j\n",
    "b=5-2j\n",
    "c=a+b\n",
    "d=a-b\n",
    "e=a*b\n",
    "f=a/b\n",
    "# g=a//b can't take floor of complex number.\n",
    "# h=a%b can't mod complex numbers.\n",
    "print(\"Addition of complex numbers a and b is \",c)\n",
    "print(\"subtraction of complex numbers a and b is \",d)\n",
    "print(\"Multiplication of complex numbers a and b is \",e)\n",
    "print(\"Division of complex numbers a and b is \",f)\n",
    "# print(\"Floor division of complex numbers a and b is \",g) can't take floor of complex number\n",
    "# print(\"Modulo of complex numbers a and b is \",h) can't mod complex numbers."
   ]
  },
  {
   "cell_type": "markdown",
   "metadata": {},
   "source": [
    "## Question 2 :\n",
    "### Research on range() functions and its parameters. Create a markdown cell and write in your own words (no copy-paste from google please) what you understand about it. Implement a small program of your choice on the same"
   ]
  },
  {
   "cell_type": "markdown",
   "metadata": {},
   "source": [
    "#### The range function give a sequence of numbers depending on the value passed as input parameter.The input value should be a integer or a whole number and cannot be decimel.As python works on zero based indexing so the range of a function for range(n) will give a contain values starting from 0 to n-1.\n"
   ]
  },
  {
   "cell_type": "code",
   "execution_count": 46,
   "metadata": {},
   "outputs": [
    {
     "name": "stdout",
     "output_type": "stream",
     "text": [
      "[0, 1, 2, 3]\n",
      "[5, 6, 7, 8, 9]\n",
      "(5, 6, 7, 8, 9)\n",
      "[10, 12, 14, 16, 18]\n",
      "['1', 10, 15, 20, 25, 30, 35, 40, 45]\n"
     ]
    }
   ],
   "source": [
    "range(4)\n",
    "print(list(range(4))) #Range of values will be from 0 to 3\n",
    "\n",
    "range(5,10) #This will give list of values starting from 5 and ending in 9(10-1)\n",
    "print(list(range(5,10)))\n",
    "print (tuple(range(5,10)))\n",
    "range(10,20,2)\n",
    "print (list (range(10,20,2)))#This will give list of values starting from 10 and ending in 19 (20-1) with step size of 2.\n",
    "\n",
    "for i in range (10,50,5):\n",
    "    \n",
    "     k.append(i)    \n",
    "        \n",
    "print(k)\n"
   ]
  },
  {
   "cell_type": "markdown",
   "metadata": {},
   "source": [
    "## Question 3:\n",
    "###  Consider two numbers. Perform their subtraction and if the result of subtraction is greater than 25, print their multiplication result else print their division result"
   ]
  },
  {
   "cell_type": "code",
   "execution_count": 54,
   "metadata": {},
   "outputs": [
    {
     "name": "stdout",
     "output_type": "stream",
     "text": [
      "number is less than 25 hence division result is 20\n",
      "number is greater than 25 hence multiplication result is 260000\n"
     ]
    }
   ],
   "source": [
    "#Keeping parameters as static parameters.\n",
    "a=500\n",
    "b=520\n",
    "c=530\n",
    "d=b-a\n",
    "e=c-a\n",
    "f=[d,e]\n",
    "\n",
    "for i in f:\n",
    "    if (i > 25):\n",
    "        d =b*a\n",
    "        print(\"number is greater than 25 hence multiplication result is\",d)\n",
    "    else:\n",
    "        e=c/a\n",
    "        print (\"number is less than 25 hence division result is\",d)\n",
    "    \n",
    "\n"
   ]
  },
  {
   "cell_type": "markdown",
   "metadata": {},
   "source": [
    "## Question 4:\n",
    "### Consider a list of 10 elements of integer values. If the number in the list is divisible by 2, print the result as \"square of that number minus 2\"."
   ]
  },
  {
   "cell_type": "code",
   "execution_count": 59,
   "metadata": {},
   "outputs": [
    {
     "name": "stdout",
     "output_type": "stream",
     "text": [
      "number is divisible by 2 98\n",
      "number is divisible by 2 322\n",
      "number is divisible by 2 782\n",
      "number is divisible by 2 1442\n",
      "number is divisible by 2 1598\n"
     ]
    }
   ],
   "source": [
    "a=[10,13,15,18,19,21,28,33,38,40]\n",
    "\n",
    "for i in a:\n",
    "    if i%2==0:\n",
    "        print(\"number is divisible by 2\",(i**2) -2)\n",
    "    \n"
   ]
  },
  {
   "cell_type": "markdown",
   "metadata": {},
   "source": [
    "## Question 5:\n",
    "### Consider a list of 10 elements. Print all the elements in the list which are greater than 7 when that number is divided 2."
   ]
  },
  {
   "cell_type": "code",
   "execution_count": 60,
   "metadata": {},
   "outputs": [
    {
     "name": "stdout",
     "output_type": "stream",
     "text": [
      "number is greater than 7 when the number is divided 2 15\n",
      "number is greater than 7 when the number is divided 2 18\n",
      "number is greater than 7 when the number is divided 2 19\n",
      "number is greater than 7 when the number is divided 2 21\n",
      "number is greater than 7 when the number is divided 2 28\n",
      "number is greater than 7 when the number is divided 2 33\n",
      "number is greater than 7 when the number is divided 2 38\n",
      "number is greater than 7 when the number is divided 2 40\n"
     ]
    }
   ],
   "source": [
    "a=[10,13,15,18,19,21,28,33,38,40]\n",
    "for i in a:\n",
    "    if i/2 > 7:\n",
    "        print(\"number is greater than 7 when the number is divided 2\",i)"
   ]
  },
  {
   "cell_type": "code",
   "execution_count": null,
   "metadata": {},
   "outputs": [],
   "source": []
  }
 ],
 "metadata": {
  "kernelspec": {
   "display_name": "Python 3",
   "language": "python",
   "name": "python3"
  },
  "language_info": {
   "codemirror_mode": {
    "name": "ipython",
    "version": 3
   },
   "file_extension": ".py",
   "mimetype": "text/x-python",
   "name": "python",
   "nbconvert_exporter": "python",
   "pygments_lexer": "ipython3",
   "version": "3.6.5"
  },
  "toc": {
   "base_numbering": 1,
   "nav_menu": {},
   "number_sections": true,
   "sideBar": true,
   "skip_h1_title": false,
   "title_cell": "Table of Contents",
   "title_sidebar": "Contents",
   "toc_cell": false,
   "toc_position": {},
   "toc_section_display": true,
   "toc_window_display": false
  }
 },
 "nbformat": 4,
 "nbformat_minor": 4
}
